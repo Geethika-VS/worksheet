{
  "nbformat": 4,
  "nbformat_minor": 0,
  "metadata": {
    "colab": {
      "provenance": []
    },
    "kernelspec": {
      "name": "python3",
      "display_name": "Python 3"
    },
    "language_info": {
      "name": "python"
    }
  },
  "cells": [
    {
      "cell_type": "code",
      "execution_count": null,
      "metadata": {
        "colab": {
          "base_uri": "https://localhost:8080/"
        },
        "id": "y7RvNfr3itBU",
        "outputId": "08190f48-b287-4b21-a2a9-d774a4f6e02c"
      },
      "outputs": [
        {
          "output_type": "stream",
          "name": "stdout",
          "text": [
            "enter first number:4\n",
            "enter second number;6\n",
            "10\n"
          ]
        }
      ],
      "source": [
        "a=int(input('enter first number:'))\n",
        "b=int(input('enter second number;'))\n",
        "s=a+b\n",
        "print(s)"
      ]
    },
    {
      "cell_type": "code",
      "source": [
        "a=int(input('enter first number:'))\n",
        "b=int(input('enter second number;'))\n",
        "s=a*b\n",
        "print(s)"
      ],
      "metadata": {
        "colab": {
          "base_uri": "https://localhost:8080/"
        },
        "id": "kGXdBnwxjXzb",
        "outputId": "a9fb10d9-5cfa-4347-b5b3-5fd099404b0c"
      },
      "execution_count": null,
      "outputs": [
        {
          "output_type": "stream",
          "name": "stdout",
          "text": [
            "enter first number:4\n",
            "enter second number;6\n",
            "24\n"
          ]
        }
      ]
    },
    {
      "cell_type": "code",
      "source": [
        "a=int(input('enter first number:'))\n",
        "b=int(input('enter second number;'))\n",
        "q=a/b\n",
        "r=a%b\n",
        "print(q,r)"
      ],
      "metadata": {
        "colab": {
          "base_uri": "https://localhost:8080/"
        },
        "id": "XjlH53bZj8rc",
        "outputId": "b4b20a64-f574-4e70-8e5b-31495ce6b369"
      },
      "execution_count": null,
      "outputs": [
        {
          "output_type": "stream",
          "name": "stdout",
          "text": [
            "enter first number:25\n",
            "enter second number;5\n",
            "5.0 0\n"
          ]
        }
      ]
    },
    {
      "cell_type": "code",
      "source": [
        "s= \"python\"\n",
        "len(s)"
      ],
      "metadata": {
        "colab": {
          "base_uri": "https://localhost:8080/"
        },
        "id": "9-zyKWMylwm4",
        "outputId": "9e3b5d6b-9b9a-4434-f61d-5496e1a34a9e"
      },
      "execution_count": null,
      "outputs": [
        {
          "output_type": "execute_result",
          "data": {
            "text/plain": [
              "6"
            ]
          },
          "metadata": {},
          "execution_count": 5
        }
      ]
    },
    {
      "cell_type": "code",
      "source": [
        "a=input('enter the string ')\n",
        "count=a.count('o')\n",
        "print(count)"
      ],
      "metadata": {
        "id": "WSJHnLQul7Do",
        "colab": {
          "base_uri": "https://localhost:8080/"
        },
        "outputId": "b55dfe7b-bb07-4b1b-8e05-78e810faff0b"
      },
      "execution_count": null,
      "outputs": [
        {
          "output_type": "stream",
          "name": "stdout",
          "text": [
            "enter the string food\n",
            "2\n"
          ]
        }
      ]
    },
    {
      "cell_type": "code",
      "source": [
        "s=input('enter the string')\n",
        "r=s.upper()\n",
        "print(r)"
      ],
      "metadata": {
        "colab": {
          "base_uri": "https://localhost:8080/"
        },
        "id": "5oW6WfmtuhZy",
        "outputId": "22318daa-a720-4da3-ee8f-aac56288ef9b"
      },
      "execution_count": null,
      "outputs": [
        {
          "output_type": "stream",
          "name": "stdout",
          "text": [
            "enter the string data\n",
            " DATA\n"
          ]
        }
      ]
    },
    {
      "cell_type": "code",
      "source": [
        "a=input('enter the string')\n",
        "b=a.lower()\n",
        "print(b)"
      ],
      "metadata": {
        "colab": {
          "base_uri": "https://localhost:8080/"
        },
        "id": "MBHOmIRhvC0a",
        "outputId": "27f53b7c-10b8-48de-9a8e-b0241aec85ca"
      },
      "execution_count": null,
      "outputs": [
        {
          "output_type": "stream",
          "name": "stdout",
          "text": [
            "enter the stringOUTPUT\n",
            "output\n"
          ]
        }
      ]
    }
  ]
}