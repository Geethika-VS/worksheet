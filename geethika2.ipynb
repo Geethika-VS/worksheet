{
  "nbformat": 4,
  "nbformat_minor": 0,
  "metadata": {
    "colab": {
      "provenance": []
    },
    "kernelspec": {
      "name": "python3",
      "display_name": "Python 3"
    },
    "language_info": {
      "name": "python"
    }
  },
  "cells": [
    {
      "cell_type": "markdown",
      "source": [
        "1. AREA OF RECTANGLE"
      ],
      "metadata": {
        "id": "mdeaA4VL4My2"
      }
    },
    {
      "cell_type": "code",
      "execution_count": null,
      "metadata": {
        "colab": {
          "base_uri": "https://localhost:8080/"
        },
        "id": "S7UDjvfn30Tp",
        "outputId": "b615cdce-b8fe-4c85-cf36-9d00cdefb801"
      },
      "outputs": [
        {
          "output_type": "stream",
          "name": "stdout",
          "text": [
            "enter a number4\n",
            "enter a number6\n",
            "24\n"
          ]
        }
      ],
      "source": [
        "height = int(input('enter a number'))\n",
        "weidth = int(input('enter a number'))\n",
        "a = height*weidth\n",
        "print(a)"
      ]
    },
    {
      "cell_type": "markdown",
      "source": [
        "2. SUM,DIFFERENCE,PRODUCT,AND QUOTIENT"
      ],
      "metadata": {
        "id": "5wXSSZdK5WeN"
      }
    },
    {
      "cell_type": "code",
      "source": [
        "a = int(input('enter a number'))\n",
        "b = int(input('enter a number'))\n",
        "s=a+b\n",
        "d=a-b\n",
        "p=a*b\n",
        "q=a/b\n",
        "print(s)\n",
        "print(d)\n",
        "print(p)\n",
        "print(q)"
      ],
      "metadata": {
        "colab": {
          "base_uri": "https://localhost:8080/"
        },
        "id": "_u9B6eDJ5Fll",
        "outputId": "f76101a1-6f69-4a56-ba88-79592d5d5290"
      },
      "execution_count": null,
      "outputs": [
        {
          "output_type": "stream",
          "name": "stdout",
          "text": [
            "enter a number8\n",
            "enter a number5\n",
            "13\n",
            "3\n",
            "40\n",
            "1.6\n"
          ]
        }
      ]
    },
    {
      "cell_type": "markdown",
      "source": [
        "3.CONVERT TEMPERATURE FROM FAHRENHEIT"
      ],
      "metadata": {
        "id": "uQHLEFn470QQ"
      }
    },
    {
      "cell_type": "code",
      "source": [
        "F=float(input('enter a number'))\n",
        "C=(F-32)*5/9\n",
        "print(C)"
      ],
      "metadata": {
        "colab": {
          "base_uri": "https://localhost:8080/"
        },
        "id": "n_fK6H927lIa",
        "outputId": "5bc6b5f5-2038-4968-a8de-bf95031f087f"
      },
      "execution_count": null,
      "outputs": [
        {
          "output_type": "stream",
          "name": "stdout",
          "text": [
            "enter a number50\n",
            "10.0\n"
          ]
        }
      ]
    },
    {
      "cell_type": "code",
      "source": [
        "C=float(input('enter a number'))\n",
        "f=(C*9/5)+32\n",
        "print(f)"
      ],
      "metadata": {
        "colab": {
          "base_uri": "https://localhost:8080/"
        },
        "id": "3rPoDlFA8cMy",
        "outputId": "5dfacc3f-6375-48d4-ee55-8cb6773573d8"
      },
      "execution_count": null,
      "outputs": [
        {
          "output_type": "stream",
          "name": "stdout",
          "text": [
            "enter a number20\n",
            "68.0\n"
          ]
        }
      ]
    },
    {
      "cell_type": "markdown",
      "source": [
        "4. NUMBER IS POSITIVE OR NEGATIVE"
      ],
      "metadata": {
        "id": "R6mscURjicWI"
      }
    },
    {
      "cell_type": "code",
      "source": [
        "num = int(input('enter a number'))\n",
        "a=num\n",
        "if a>0:\n",
        " print('num is positive')\n",
        "elif a<0:\n",
        "  print('num is negative')"
      ],
      "metadata": {
        "colab": {
          "base_uri": "https://localhost:8080/"
        },
        "id": "v9Za7U1MiSa7",
        "outputId": "36e86629-c1ba-4859-e099-e0c348d35718"
      },
      "execution_count": null,
      "outputs": [
        {
          "output_type": "stream",
          "name": "stdout",
          "text": [
            "enter a number6\n",
            "num is positive\n"
          ]
        }
      ]
    },
    {
      "cell_type": "code",
      "source": [
        "y=int(input('enter the year'))\n",
        "if y%4==0:\n",
        "  print(\"it is a leap year\")\n",
        "elif y%4!=0:\n",
        "  print(\"it is not a leap year\")\n",
        "elif y%400==0:\n",
        " print(\"it is a leap year\")\n",
        "elif y%400!=0:\n",
        "  print(\"it is not a leap year\")\n"
      ],
      "metadata": {
        "colab": {
          "base_uri": "https://localhost:8080/"
        },
        "id": "xVpuzXFFjlRT",
        "outputId": "9190faa9-1b50-4a11-b8ab-552abbcda911"
      },
      "execution_count": null,
      "outputs": [
        {
          "output_type": "stream",
          "name": "stdout",
          "text": [
            "enter the year2004\n",
            "it is a leap year\n"
          ]
        }
      ]
    },
    {
      "cell_type": "markdown",
      "source": [
        "6.GRAD SCALE"
      ],
      "metadata": {
        "id": "yOVJB3v8opw5"
      }
    },
    {
      "cell_type": "code",
      "source": [
        "mark=int(input('enter mark'))\n",
        "if mark>90:\n",
        "  print('A')\n",
        "elif mark>80:\n",
        "  print('B')\n",
        "elif mark>70:\n",
        "  print('C')\n",
        "elif mark>60:\n",
        "  print('D')\n",
        "else:\n",
        "  print('F')"
      ],
      "metadata": {
        "colab": {
          "base_uri": "https://localhost:8080/"
        },
        "id": "RZU35knQoisn",
        "outputId": "026efba8-7fdd-46eb-f4dc-5fd9c1e86817"
      },
      "execution_count": null,
      "outputs": [
        {
          "output_type": "stream",
          "name": "stdout",
          "text": [
            "enter mark46\n",
            "F\n"
          ]
        }
      ]
    },
    {
      "cell_type": "markdown",
      "source": [
        "7.PRINT 10 TO 1"
      ],
      "metadata": {
        "id": "1itqPkQsqPyJ"
      }
    },
    {
      "cell_type": "code",
      "source": [
        "for num in range(10,0,-1):\n",
        "  print(num)"
      ],
      "metadata": {
        "colab": {
          "base_uri": "https://localhost:8080/"
        },
        "id": "E71T9TriqI5x",
        "outputId": "a3634e9d-f1cf-463b-ba66-6f0ee7e34825"
      },
      "execution_count": null,
      "outputs": [
        {
          "output_type": "stream",
          "name": "stdout",
          "text": [
            "10\n",
            "9\n",
            "8\n",
            "7\n",
            "6\n",
            "5\n",
            "4\n",
            "3\n",
            "2\n",
            "1\n"
          ]
        }
      ]
    },
    {
      "cell_type": "markdown",
      "source": [
        "8.PRINT EVEN NUMBERS FROM 1 TO 20"
      ],
      "metadata": {
        "id": "sg0h9Q3Oq0Yp"
      }
    },
    {
      "cell_type": "code",
      "source": [
        "for i in range(2,22,2):\n",
        "  print(i)"
      ],
      "metadata": {
        "colab": {
          "base_uri": "https://localhost:8080/"
        },
        "id": "xqq5AYetquRM",
        "outputId": "251d38da-9894-4f36-f435-2a87e330c4b5"
      },
      "execution_count": null,
      "outputs": [
        {
          "output_type": "stream",
          "name": "stdout",
          "text": [
            "2\n",
            "4\n",
            "6\n",
            "8\n",
            "10\n",
            "12\n",
            "14\n",
            "16\n",
            "18\n",
            "20\n"
          ]
        }
      ]
    },
    {
      "cell_type": "markdown",
      "source": [
        "9.MULTIPLICATION TABLE\n"
      ],
      "metadata": {
        "id": "4ytk3A9OrOjy"
      }
    },
    {
      "cell_type": "code",
      "source": [
        "n=int(input('enter a number'))\n",
        "for i in range (1,11):\n",
        "   print(i,'x',n,'=',i*n)"
      ],
      "metadata": {
        "colab": {
          "base_uri": "https://localhost:8080/"
        },
        "id": "5rJdehqSrHeo",
        "outputId": "7cece043-1338-4c94-9ec5-a1ab5224c59f"
      },
      "execution_count": null,
      "outputs": [
        {
          "output_type": "stream",
          "name": "stdout",
          "text": [
            "enter a number6\n",
            "1 x 6 = 6\n",
            "2 x 6 = 12\n",
            "3 x 6 = 18\n",
            "4 x 6 = 24\n",
            "5 x 6 = 30\n",
            "6 x 6 = 36\n",
            "7 x 6 = 42\n",
            "8 x 6 = 48\n",
            "9 x 6 = 54\n",
            "10 x 6 = 60\n"
          ]
        }
      ]
    },
    {
      "cell_type": "code",
      "source": [],
      "metadata": {
        "id": "sbxwQGLdrwgK"
      },
      "execution_count": null,
      "outputs": []
    }
  ]
}